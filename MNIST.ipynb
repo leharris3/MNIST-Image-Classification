{
  "nbformat": 4,
  "nbformat_minor": 0,
  "metadata": {
    "colab": {
      "provenance": []
    },
    "kernelspec": {
      "name": "python3",
      "display_name": "Python 3"
    },
    "language_info": {
      "name": "python"
    }
  },
  "cells": [
    {
      "cell_type": "code",
      "execution_count": 3,
      "metadata": {
        "id": "Yk7u9eAMy79D"
      },
      "outputs": [],
      "source": [
        "# Imports\n",
        "import numpy as np\n",
        "import matplotlib.pyplot as plt\n",
        "%matplotlib inline\n",
        "import keras\n",
        "from keras.models import Sequential\n",
        "from keras.layers import Dense, Dropout\n",
        "from sklearn.metrics import confusion_matrix\n",
        "import seaborn as sns\n",
        "\n",
        "np.random.seed(0)"
      ]
    },
    {
      "cell_type": "code",
      "source": [
        "# Fetch MNIST Dataset\n",
        "from keras.datasets import mnist\n",
        "(x_train, y_train), (x_test, y_test) = mnist.load_data()"
      ],
      "metadata": {
        "id": "x88TvXk80O0Z",
        "colab": {
          "base_uri": "https://localhost:8080/"
        },
        "outputId": "78de4cd7-22f7-4d20-fbad-9ebc161eddac"
      },
      "execution_count": 4,
      "outputs": [
        {
          "output_type": "stream",
          "name": "stdout",
          "text": [
            "Downloading data from https://storage.googleapis.com/tensorflow/tf-keras-datasets/mnist.npz\n",
            "11490434/11490434 [==============================] - 0s 0us/step\n"
          ]
        }
      ]
    },
    {
      "cell_type": "code",
      "source": [
        "# Print Example Data\n",
        "  # No need for \"class balancing\"\n",
        "\n",
        "num_classes = 10\n",
        "f, ax = plt.subplots(1, num_classes, figsize=(20,20))\n",
        "\n",
        "for i in range (num_classes):\n",
        "  sample = x_train[y_train == i][0]\n",
        "  ax[i].imshow(sample, cmap = 'gray')\n",
        "  ax[i].set_title(\"Label: {}\".format(i), fontsize = 15)"
      ],
      "metadata": {
        "colab": {
          "base_uri": "https://localhost:8080/",
          "height": 160
        },
        "id": "MQ2OMtb60qrS",
        "outputId": "29df3ebb-7c7c-4438-cb82-784c6b4ef53a"
      },
      "execution_count": 5,
      "outputs": [
        {
          "output_type": "display_data",
          "data": {
            "text/plain": [
              "<Figure size 1440x1440 with 10 Axes>"
            ],
            "image/png": "[encoded data removed]"
          },
          "metadata": {
            "needs_background": "light"
          }
        }
      ]
    },
    {
      "cell_type": "code",
      "source": [
        "# Print Labels\n",
        "\n",
        "for i in range (10):\n",
        "  print(y_train[i], end = \" \")"
      ],
      "metadata": {
        "colab": {
          "base_uri": "https://localhost:8080/"
        },
        "id": "9v3-Tj-Y1aFD",
        "outputId": "f723ac00-6480-4c8f-ad4a-82c483005b1d"
      },
      "execution_count": 6,
      "outputs": [
        {
          "output_type": "stream",
          "name": "stdout",
          "text": [
            "5 0 4 1 9 2 1 3 1 4 "
          ]
        }
      ]
    },
    {
      "cell_type": "code",
      "source": [
        "# P: Each image labeled with an int value, potential that model may guess a non-discrete value ex: 4.5\n",
        "\n",
        "# Create vector of length = num_classes for each item in y_train/test set\n",
        "# Each vector contains a bin value for the presence / absecene of a value at index: i = val - 1\n",
        "\n",
        "y_train = keras.utils.to_categorical(y_train, num_classes)\n",
        "y_test = keras.utils.to_categorical(y_test, num_classes)\n",
        "\n",
        "for i in range(10):\n",
        "  print(y_train[i])"
      ],
      "metadata": {
        "colab": {
          "base_uri": "https://localhost:8080/"
        },
        "id": "v7XY_mco1sgr",
        "outputId": "02ac424d-b107-48e3-9827-990c1aef6917"
      },
      "execution_count": 7,
      "outputs": [
        {
          "output_type": "stream",
          "name": "stdout",
          "text": [
            "[0. 0. 0. 0. 0. 1. 0. 0. 0. 0.]\n",
            "[1. 0. 0. 0. 0. 0. 0. 0. 0. 0.]\n",
            "[0. 0. 0. 0. 1. 0. 0. 0. 0. 0.]\n",
            "[0. 1. 0. 0. 0. 0. 0. 0. 0. 0.]\n",
            "[0. 0. 0. 0. 0. 0. 0. 0. 0. 1.]\n",
            "[0. 0. 1. 0. 0. 0. 0. 0. 0. 0.]\n",
            "[0. 1. 0. 0. 0. 0. 0. 0. 0. 0.]\n",
            "[0. 0. 0. 1. 0. 0. 0. 0. 0. 0.]\n",
            "[0. 1. 0. 0. 0. 0. 0. 0. 0. 0.]\n",
            "[0. 0. 0. 0. 1. 0. 0. 0. 0. 0.]\n"
          ]
        }
      ]
    },
    {
      "cell_type": "code",
      "source": [
        "# Normalize dataset\n",
        "x_train = x_train / 255.0\n",
        "x_test = x_test / 255.0\n",
        "\n",
        "# Reshape Data\n",
        "  # Turn training data into a single vector dim(v) = 784\n",
        "x_train = x_train.reshape(x_train.shape[0], -1)\n",
        "x_test = x_test.reshape(x_test.shape[0], -1)\n"
      ],
      "metadata": {
        "id": "YjR6Kxnk2Uyg"
      },
      "execution_count": 8,
      "outputs": []
    },
    {
      "cell_type": "code",
      "source": [
        "# Model\n",
        "\n",
        "model = Sequential()\n",
        "\n",
        "model.add(Dense(units=128, input_shape=(784, ), activation ='relu'))\n",
        "model.add(Dense(units=128, activation ='relu'))\n",
        "model.add(Dropout(.25)) # 25% of nuerons removed during training\n",
        "model.add(Dense(units = 10, activation ='softmax')) # Assigns correctness probability for each class\n",
        "\n",
        "# Categorical Crossentropy: Loss function for multiple classes\n",
        "# Adam Optimizer: Standard\n",
        "\n",
        "model.compile(loss = 'categorical_crossentropy', optimizer='adam', metrics=['accuracy'])\n",
        "model.summary()"
      ],
      "metadata": {
        "colab": {
          "base_uri": "https://localhost:8080/"
        },
        "id": "btNmdI6O3Fzp",
        "outputId": "16fbd8e1-e86f-43fd-f9d3-44e495ddd663"
      },
      "execution_count": 9,
      "outputs": [
        {
          "output_type": "stream",
          "name": "stdout",
          "text": [
            "Model: \"sequential\"\n",
            "_________________________________________________________________\n",
            " Layer (type)                Output Shape              Param #   \n",
            "=================================================================\n",
            " dense (Dense)               (None, 128)               100480    \n",
            "                                                                 \n",
            " dense_1 (Dense)             (None, 128)               16512     \n",
            "                                                                 \n",
            " dropout (Dropout)           (None, 128)               0         \n",
            "                                                                 \n",
            " dense_2 (Dense)             (None, 10)                1290      \n",
            "                                                                 \n",
            "=================================================================\n",
            "Total params: 118,282\n",
            "Trainable params: 118,282\n",
            "Non-trainable params: 0\n",
            "_________________________________________________________________\n"
          ]
        }
      ]
    },
    {
      "cell_type": "code",
      "source": [
        "# Training Params\n",
        "\n",
        "batch_size = 512\n",
        "epochs = 10\n",
        "model.fit(x=x_train, y=y_train, batch_size=batch_size, epochs=epochs)"
      ],
      "metadata": {
        "colab": {
          "base_uri": "https://localhost:8080/"
        },
        "id": "8En3avcS6EF0",
        "outputId": "95daa2cc-3089-4099-be76-8c0daa841738"
      },
      "execution_count": 10,
      "outputs": [
        {
          "output_type": "stream",
          "name": "stdout",
          "text": [
            "Epoch 1/10\n",
            "118/118 [==============================] - 4s 25ms/step - loss: 0.5756 - accuracy: 0.8351\n",
            "Epoch 2/10\n",
            "118/118 [==============================] - 2s 20ms/step - loss: 0.2251 - accuracy: 0.9342\n",
            "Epoch 3/10\n",
            "118/118 [==============================] - 3s 23ms/step - loss: 0.1669 - accuracy: 0.9507\n",
            "Epoch 4/10\n",
            "118/118 [==============================] - 2s 13ms/step - loss: 0.1305 - accuracy: 0.9614\n",
            "Epoch 5/10\n",
            "118/118 [==============================] - 1s 11ms/step - loss: 0.1089 - accuracy: 0.9686\n",
            "Epoch 6/10\n",
            "118/118 [==============================] - 1s 10ms/step - loss: 0.0913 - accuracy: 0.9727\n",
            "Epoch 7/10\n",
            "118/118 [==============================] - 1s 12ms/step - loss: 0.0778 - accuracy: 0.9767\n",
            "Epoch 8/10\n",
            "118/118 [==============================] - 2s 17ms/step - loss: 0.0675 - accuracy: 0.9796\n",
            "Epoch 9/10\n",
            "118/118 [==============================] - 2s 14ms/step - loss: 0.0593 - accuracy: 0.9818\n",
            "Epoch 10/10\n",
            "118/118 [==============================] - 1s 11ms/step - loss: 0.0518 - accuracy: 0.9840\n"
          ]
        },
        {
          "output_type": "execute_result",
          "data": {
            "text/plain": [
              "<keras.callbacks.History at 0x7efc21393160>"
            ]
          },
          "metadata": {},
          "execution_count": 10
        }
      ]
    },
    {
      "cell_type": "code",
      "source": [
        "# Evaluation\n",
        "\n",
        "test_loss, test_acc = model.evaluate(x_test, y_test)\n",
        "print(\"Test Loss: {}, Test Accuracy: {}\".format(test_loss, test_acc))"
      ],
      "metadata": {
        "colab": {
          "base_uri": "https://localhost:8080/"
        },
        "id": "cTfkPL7w6o83",
        "outputId": "cf0da8d4-5a47-411f-92d3-11610a8f3e1c"
      },
      "execution_count": 11,
      "outputs": [
        {
          "output_type": "stream",
          "name": "stdout",
          "text": [
            "313/313 [==============================] - 1s 2ms/step - loss: 0.0762 - accuracy: 0.9768\n",
            "Test Loss: 0.07621926069259644, Test Accuracy: 0.9768000245094299\n"
          ]
        }
      ]
    },
    {
      "cell_type": "code",
      "source": [
        "y_pred = model.predict(x_test)\n",
        "y_pred_classes = np.argmax(y_pred, axis = 1)\n",
        "\n",
        "print(y_pred)\n",
        "print(y_pred_classes) # Retuns largest probable value's index from each row"
      ],
      "metadata": {
        "colab": {
          "base_uri": "https://localhost:8080/"
        },
        "id": "hyw6bXMl7on9",
        "outputId": "e1f1d551-33f4-4133-f9aa-0790bf585379"
      },
      "execution_count": 12,
      "outputs": [
        {
          "output_type": "stream",
          "name": "stdout",
          "text": [
            "313/313 [==============================] - 1s 3ms/step\n",
            "[[3.2972943e-07 5.5321863e-07 3.1610376e-05 ... 9.9993712e-01\n",
            "  1.3539750e-07 7.7321365e-06]\n",
            " [2.3554421e-06 2.3893657e-04 9.9970353e-01 ... 4.8328133e-08\n",
            "  2.0820540e-05 1.1803616e-10]\n",
            " [6.3554294e-06 9.9581140e-01 4.1026127e-04 ... 2.7360537e-03\n",
            "  3.6591131e-04 8.0116897e-06]\n",
            " ...\n",
            " [2.4713726e-10 8.2750589e-08 1.7094627e-09 ... 5.0543872e-06\n",
            "  1.0003131e-06 1.5363796e-05]\n",
            " [1.7699918e-09 4.3171919e-09 2.1322331e-10 ... 1.2231390e-09\n",
            "  3.2747885e-05 9.9783626e-10]\n",
            " [1.6546078e-07 3.5460573e-08 1.0379229e-08 ... 9.8233789e-11\n",
            "  6.2006880e-09 4.4281645e-08]]\n",
            "[7 2 1 ... 4 5 6]\n"
          ]
        }
      ]
    },
    {
      "cell_type": "code",
      "source": [
        "# Example Image\n",
        "\n",
        "random_idx = np.random.choice(len(x_test))\n",
        "x_sample = x_test[random_idx]\n",
        "y_true = np.argmax(y_test, axis = 1)\n",
        "y_sample_true = y_true[random_idx]\n",
        "y_sample_pred_class = y_pred_classes[random_idx]\n",
        "\n",
        "plt.title(\"Predicted: {}, True: {}\".format(y_sample_pred_class, y_sample_true), fontsize = 16)\n",
        "plt.imshow(x_sample.reshape(28, 28), cmap = 'gray')"
      ],
      "metadata": {
        "colab": {
          "base_uri": "https://localhost:8080/",
          "height": 300
        },
        "id": "MwqdKFWC76Bj",
        "outputId": "b6717179-ebf0-47c6-cead-3d7ba53b93d5"
      },
      "execution_count": 13,
      "outputs": [
        {
          "output_type": "execute_result",
          "data": {
            "text/plain": [
              "<matplotlib.image.AxesImage at 0x7efc21393790>"
            ]
          },
          "metadata": {},
          "execution_count": 13
        },
        {
          "output_type": "display_data",
          "data": {
            "text/plain": [
              "<Figure size 432x288 with 1 Axes>"
            ],
            "image/png": "[encoded data removed]"
          },
          "metadata": {
            "needs_background": "light"
          }
        }
      ]
    }
  ]
}