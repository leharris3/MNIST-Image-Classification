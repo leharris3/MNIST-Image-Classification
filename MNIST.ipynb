{
  "nbformat": 4,
  "nbformat_minor": 0,
  "metadata": {
    "colab": {
      "provenance": []
    },
    "kernelspec": {
      "name": "python3",
      "display_name": "Python 3"
    },
    "language_info": {
      "name": "python"
    }
  },
  "cells": [
    {
      "cell_type": "code",
      "execution_count": 3,
      "metadata": {
        "id": "Yk7u9eAMy79D"
      },
      "outputs": [],
      "source": [
        "import numpy as np\n",
        "import matplotlib.pyplot as plt\n",
        "%matplotlib inline\n",
        "import keras\n",
        "from keras.models import Sequential\n",
        "from keras.layers import Dense, Dropout\n",
        "from sklearn.metrics import confusion_matrix\n",
        "import seaborn as sns\n",
        "\n",
        "np.random.seed(0)"
      ]
    },
    {
      "cell_type": "code",
      "source": [],
      "metadata": {
        "id": "60iDMeUT0Dol"
      },
      "execution_count": null,
      "outputs": []
    },
    {
      "cell_type": "code",
      "source": [
        "# Fetch MNIST Dataset\n",
        "from keras.datasets import mnist\n",
        "(x_train, y_train), (x_test, y_test) = mnist.load_data()\n"
      ],
      "metadata": {
        "id": "x88TvXk80O0Z"
      },
      "execution_count": 27,
      "outputs": []
    },
    {
      "cell_type": "code",
      "source": [
        "# Print Example Data\n",
        "  # No need for \"class balancing\"\n",
        "\n",
        "num_classes = 10\n",
        "f, ax = plt.subplots(1, num_classes, figsize=(20,20))\n",
        "\n",
        "for i in range (num_classes):\n",
        "  sample = x_train[y_train == i][0]\n",
        "  ax[i].imshow(sample, cmap = 'gray')\n",
        "  ax[i].set_title(\"Label: {}\".format(i), fontsize = 15)\n",
        "\n"
      ],
      "metadata": {
        "colab": {
          "base_uri": "https://localhost:8080/",
          "height": 105
        },
        "id": "MQ2OMtb60qrS",
        "outputId": "8c8864ec-1181-4efc-f015-29670412ac2b"
      },
      "execution_count": 28,
      "outputs": [
        {
          "output_type": "display_data",
          "data": {
            "text/plain": [
              "<Figure size 1440x1440 with 10 Axes>"
            ],
            "image/png": "[encoded data removed]"
          },
          "metadata": {
            "needs_background": "light"
          }
        }
      ]
    },
    {
      "cell_type": "code",
      "source": [
        "# Print Labels\n",
        "\n",
        "for i in range (10):\n",
        "  print(y_train[i], end = \" \")"
      ],
      "metadata": {
        "colab": {
          "base_uri": "https://localhost:8080/"
        },
        "id": "9v3-Tj-Y1aFD",
        "outputId": "a006d67a-8831-4089-8303-8dcdea1350c9"
      },
      "execution_count": 10,
      "outputs": [
        {
          "output_type": "stream",
          "name": "stdout",
          "text": [
            "5 0 4 1 9 2 1 3 1 4 "
          ]
        }
      ]
    },
    {
      "cell_type": "code",
      "source": [
        "# P: Each image labeled with an int value, potential that model may guess a non-discrete value ex: 4.5\n",
        "\n",
        "# Create vector of length = num_classes for each item in y_train/test set\n",
        "# Each vector contains a bin value for the presence / absecene of a value at index: i = val - 1\n",
        "\n",
        "y_train = keras.utils.to_categorical(y_train, num_classes)\n",
        "y_test = keras.utils.to_categorical(y_test, num_classes)\n",
        "\n",
        "for i in range(10):\n",
        "  print(y_train[i])"
      ],
      "metadata": {
        "colab": {
          "base_uri": "https://localhost:8080/"
        },
        "id": "v7XY_mco1sgr",
        "outputId": "0114de5b-3a9b-4f9d-ba0b-7c5e8b7d4a9e"
      },
      "execution_count": 29,
      "outputs": [
        {
          "output_type": "stream",
          "name": "stdout",
          "text": [
            "[0. 0. 0. 0. 0. 1. 0. 0. 0. 0.]\n",
            "[1. 0. 0. 0. 0. 0. 0. 0. 0. 0.]\n",
            "[0. 0. 0. 0. 1. 0. 0. 0. 0. 0.]\n",
            "[0. 1. 0. 0. 0. 0. 0. 0. 0. 0.]\n",
            "[0. 0. 0. 0. 0. 0. 0. 0. 0. 1.]\n",
            "[0. 0. 1. 0. 0. 0. 0. 0. 0. 0.]\n",
            "[0. 1. 0. 0. 0. 0. 0. 0. 0. 0.]\n",
            "[0. 0. 0. 1. 0. 0. 0. 0. 0. 0.]\n",
            "[0. 1. 0. 0. 0. 0. 0. 0. 0. 0.]\n",
            "[0. 0. 0. 0. 1. 0. 0. 0. 0. 0.]\n"
          ]
        }
      ]
    },
    {
      "cell_type": "code",
      "source": [
        "# Normalize dataset\n",
        "x_train = x_train / 255.0\n",
        "x_test = x_test / 255.0\n",
        "\n",
        "# Reshape Data\n",
        "  # Turn training data into a single vector dim(v) = 784\n",
        "x_train = x_train.reshape(x_train.shape[0], -1)\n",
        "x_test = x_test.reshape(x_test.shape[0], -1)\n"
      ],
      "metadata": {
        "id": "YjR6Kxnk2Uyg"
      },
      "execution_count": 31,
      "outputs": []
    },
    {
      "cell_type": "code",
      "source": [
        "# Model\n",
        "\n",
        "model = Sequential()\n",
        "\n",
        "model.add(Dense(units=128, input_shape=(784, ), activation ='relu'))\n",
        "model.add(Dense(units=128, activation ='relu'))\n",
        "model.add(Dropout(.25)) # 25% of nuerons removed during training\n",
        "model.add(Dense(units = 10, activation ='softmax')) # Assigns correctness probability for each class\n",
        "\n",
        "# Categorical Crossentropy: Loss function for multiple classes\n",
        "# Adam Optimizer: Standard\n",
        "\n",
        "\n",
        "model.compile(loss = 'categorical_crossentropy', optimizer='adam', metrics=['accuracy'])\n",
        "model.summary()"
      ],
      "metadata": {
        "colab": {
          "base_uri": "https://localhost:8080/"
        },
        "id": "btNmdI6O3Fzp",
        "outputId": "997988eb-5a2a-431e-8f93-c238b8a20f5c"
      },
      "execution_count": 37,
      "outputs": [
        {
          "output_type": "stream",
          "name": "stdout",
          "text": [
            "Model: \"sequential_5\"\n",
            "_________________________________________________________________\n",
            " Layer (type)                Output Shape              Param #   \n",
            "=================================================================\n",
            " dense_15 (Dense)            (None, 128)               100480    \n",
            "                                                                 \n",
            " dense_16 (Dense)            (None, 128)               16512     \n",
            "                                                                 \n",
            " dropout_5 (Dropout)         (None, 128)               0         \n",
            "                                                                 \n",
            " dense_17 (Dense)            (None, 10)                1290      \n",
            "                                                                 \n",
            "=================================================================\n",
            "Total params: 118,282\n",
            "Trainable params: 118,282\n",
            "Non-trainable params: 0\n",
            "_________________________________________________________________\n"
          ]
        }
      ]
    },
    {
      "cell_type": "code",
      "source": [
        "# Training Params\n",
        "\n",
        "batch_size = 1024\n",
        "epochs = 100\n",
        "model.fit(x=x_train, y=y_train, batch_size=batch_size, epochs=epochs)"
      ],
      "metadata": {
        "colab": {
          "base_uri": "https://localhost:8080/"
        },
        "id": "8En3avcS6EF0",
        "outputId": "126de0cf-9083-482b-ee24-b0657d16e15a"
      },
      "execution_count": 39,
      "outputs": [
        {
          "output_type": "stream",
          "name": "stdout",
          "text": [
            "Epoch 1/100\n",
            "59/59 [==============================] - 3s 47ms/step - loss: 0.3351 - accuracy: 0.9022\n",
            "Epoch 2/100\n",
            "59/59 [==============================] - 2s 26ms/step - loss: 0.3275 - accuracy: 0.9039\n",
            "Epoch 3/100\n",
            "59/59 [==============================] - 1s 20ms/step - loss: 0.3225 - accuracy: 0.9062\n",
            "Epoch 4/100\n",
            "59/59 [==============================] - 1s 20ms/step - loss: 0.3171 - accuracy: 0.9078\n",
            "Epoch 5/100\n",
            "59/59 [==============================] - 1s 20ms/step - loss: 0.3117 - accuracy: 0.9087\n",
            "Epoch 6/100\n",
            "59/59 [==============================] - 1s 19ms/step - loss: 0.3081 - accuracy: 0.9106\n",
            "Epoch 7/100\n",
            "59/59 [==============================] - 1s 21ms/step - loss: 0.2998 - accuracy: 0.9121\n",
            "Epoch 8/100\n",
            "59/59 [==============================] - 1s 21ms/step - loss: 0.2975 - accuracy: 0.9130\n",
            "Epoch 9/100\n",
            "59/59 [==============================] - 1s 20ms/step - loss: 0.2920 - accuracy: 0.9141\n",
            "Epoch 10/100\n",
            "59/59 [==============================] - 1s 21ms/step - loss: 0.2854 - accuracy: 0.9166\n",
            "Epoch 11/100\n",
            "59/59 [==============================] - 2s 32ms/step - loss: 0.2808 - accuracy: 0.9177\n",
            "Epoch 12/100\n",
            "59/59 [==============================] - 2s 28ms/step - loss: 0.2754 - accuracy: 0.9196\n",
            "Epoch 13/100\n",
            "59/59 [==============================] - 1s 20ms/step - loss: 0.2721 - accuracy: 0.9213\n",
            "Epoch 14/100\n",
            "59/59 [==============================] - 1s 20ms/step - loss: 0.2657 - accuracy: 0.9217\n",
            "Epoch 15/100\n",
            "59/59 [==============================] - 1s 20ms/step - loss: 0.2628 - accuracy: 0.9237\n",
            "Epoch 16/100\n",
            "59/59 [==============================] - 1s 20ms/step - loss: 0.2581 - accuracy: 0.9238\n",
            "Epoch 17/100\n",
            "59/59 [==============================] - 1s 21ms/step - loss: 0.2511 - accuracy: 0.9269\n",
            "Epoch 18/100\n",
            "59/59 [==============================] - 1s 20ms/step - loss: 0.2478 - accuracy: 0.9280\n",
            "Epoch 19/100\n",
            "59/59 [==============================] - 1s 20ms/step - loss: 0.2436 - accuracy: 0.9293\n",
            "Epoch 20/100\n",
            "59/59 [==============================] - 1s 21ms/step - loss: 0.2412 - accuracy: 0.9295\n",
            "Epoch 21/100\n",
            "59/59 [==============================] - 2s 33ms/step - loss: 0.2346 - accuracy: 0.9318\n",
            "Epoch 22/100\n",
            "59/59 [==============================] - 2s 30ms/step - loss: 0.2307 - accuracy: 0.9323\n",
            "Epoch 23/100\n",
            "59/59 [==============================] - 2s 37ms/step - loss: 0.2270 - accuracy: 0.9337\n",
            "Epoch 24/100\n",
            "59/59 [==============================] - 3s 44ms/step - loss: 0.2237 - accuracy: 0.9343\n",
            "Epoch 25/100\n",
            "59/59 [==============================] - 2s 31ms/step - loss: 0.2180 - accuracy: 0.9372\n",
            "Epoch 26/100\n",
            "59/59 [==============================] - 1s 20ms/step - loss: 0.2158 - accuracy: 0.9369\n",
            "Epoch 27/100\n",
            "59/59 [==============================] - 1s 20ms/step - loss: 0.2110 - accuracy: 0.9380\n",
            "Epoch 28/100\n",
            "59/59 [==============================] - 2s 26ms/step - loss: 0.2069 - accuracy: 0.9399\n",
            "Epoch 29/100\n",
            "59/59 [==============================] - 2s 33ms/step - loss: 0.2025 - accuracy: 0.9407\n",
            "Epoch 30/100\n",
            "59/59 [==============================] - 1s 24ms/step - loss: 0.1999 - accuracy: 0.9408\n",
            "Epoch 31/100\n",
            "59/59 [==============================] - 1s 20ms/step - loss: 0.1951 - accuracy: 0.9424\n",
            "Epoch 32/100\n",
            "59/59 [==============================] - 1s 20ms/step - loss: 0.1912 - accuracy: 0.9435\n",
            "Epoch 33/100\n",
            "59/59 [==============================] - 1s 20ms/step - loss: 0.1885 - accuracy: 0.9452\n",
            "Epoch 34/100\n",
            "59/59 [==============================] - 1s 19ms/step - loss: 0.1838 - accuracy: 0.9464\n",
            "Epoch 35/100\n",
            "59/59 [==============================] - 1s 19ms/step - loss: 0.1795 - accuracy: 0.9472\n",
            "Epoch 36/100\n",
            "59/59 [==============================] - 1s 19ms/step - loss: 0.1753 - accuracy: 0.9494\n",
            "Epoch 37/100\n",
            "59/59 [==============================] - 1s 20ms/step - loss: 0.1738 - accuracy: 0.9489\n",
            "Epoch 38/100\n",
            "59/59 [==============================] - 1s 22ms/step - loss: 0.1701 - accuracy: 0.9499\n",
            "Epoch 39/100\n",
            "59/59 [==============================] - 2s 30ms/step - loss: 0.1668 - accuracy: 0.9510\n",
            "Epoch 40/100\n",
            "59/59 [==============================] - 2s 28ms/step - loss: 0.1627 - accuracy: 0.9516\n",
            "Epoch 41/100\n",
            "59/59 [==============================] - 1s 20ms/step - loss: 0.1591 - accuracy: 0.9525\n",
            "Epoch 42/100\n",
            "59/59 [==============================] - 1s 21ms/step - loss: 0.1572 - accuracy: 0.9535\n",
            "Epoch 43/100\n",
            "59/59 [==============================] - 1s 19ms/step - loss: 0.1531 - accuracy: 0.9554\n",
            "Epoch 44/100\n",
            "59/59 [==============================] - 1s 20ms/step - loss: 0.1524 - accuracy: 0.9559\n",
            "Epoch 45/100\n",
            "59/59 [==============================] - 2s 28ms/step - loss: 0.1495 - accuracy: 0.9559\n",
            "Epoch 46/100\n",
            "59/59 [==============================] - 2s 34ms/step - loss: 0.1452 - accuracy: 0.9574\n",
            "Epoch 47/100\n",
            "59/59 [==============================] - 2s 25ms/step - loss: 0.1439 - accuracy: 0.9579\n",
            "Epoch 48/100\n",
            "59/59 [==============================] - 2s 32ms/step - loss: 0.1410 - accuracy: 0.9584\n",
            "Epoch 49/100\n",
            "59/59 [==============================] - 2s 27ms/step - loss: 0.1400 - accuracy: 0.9585\n",
            "Epoch 50/100\n",
            "59/59 [==============================] - 1s 20ms/step - loss: 0.1366 - accuracy: 0.9603\n",
            "Epoch 51/100\n",
            "59/59 [==============================] - 1s 19ms/step - loss: 0.1341 - accuracy: 0.9612\n",
            "Epoch 52/100\n",
            "59/59 [==============================] - 1s 20ms/step - loss: 0.1313 - accuracy: 0.9616\n",
            "Epoch 53/100\n",
            "59/59 [==============================] - 1s 20ms/step - loss: 0.1289 - accuracy: 0.9621\n",
            "Epoch 54/100\n",
            "59/59 [==============================] - 1s 20ms/step - loss: 0.1278 - accuracy: 0.9625\n",
            "Epoch 55/100\n",
            "59/59 [==============================] - 1s 20ms/step - loss: 0.1254 - accuracy: 0.9631\n",
            "Epoch 56/100\n",
            "59/59 [==============================] - 1s 20ms/step - loss: 0.1232 - accuracy: 0.9643\n",
            "Epoch 57/100\n",
            "59/59 [==============================] - 1s 21ms/step - loss: 0.1209 - accuracy: 0.9639\n",
            "Epoch 58/100\n",
            "59/59 [==============================] - 2s 34ms/step - loss: 0.1203 - accuracy: 0.9646\n",
            "Epoch 59/100\n",
            "59/59 [==============================] - 2s 29ms/step - loss: 0.1178 - accuracy: 0.9658\n",
            "Epoch 60/100\n",
            "59/59 [==============================] - 1s 19ms/step - loss: 0.1154 - accuracy: 0.9661\n",
            "Epoch 61/100\n",
            "59/59 [==============================] - 1s 20ms/step - loss: 0.1147 - accuracy: 0.9661\n",
            "Epoch 62/100\n",
            "59/59 [==============================] - 1s 21ms/step - loss: 0.1127 - accuracy: 0.9667\n",
            "Epoch 63/100\n",
            "59/59 [==============================] - 1s 20ms/step - loss: 0.1113 - accuracy: 0.9670\n",
            "Epoch 64/100\n",
            "59/59 [==============================] - 1s 20ms/step - loss: 0.1100 - accuracy: 0.9671\n",
            "Epoch 65/100\n",
            "59/59 [==============================] - 1s 20ms/step - loss: 0.1067 - accuracy: 0.9691\n",
            "Epoch 66/100\n",
            "59/59 [==============================] - 1s 20ms/step - loss: 0.1065 - accuracy: 0.9689\n",
            "Epoch 67/100\n",
            "59/59 [==============================] - 1s 20ms/step - loss: 0.1043 - accuracy: 0.9684\n",
            "Epoch 68/100\n",
            "59/59 [==============================] - 2s 30ms/step - loss: 0.1024 - accuracy: 0.9699\n",
            "Epoch 69/100\n",
            "59/59 [==============================] - 2s 30ms/step - loss: 0.1012 - accuracy: 0.9702\n",
            "Epoch 70/100\n",
            "59/59 [==============================] - 1s 20ms/step - loss: 0.0997 - accuracy: 0.9702\n",
            "Epoch 71/100\n",
            "59/59 [==============================] - 1s 20ms/step - loss: 0.0984 - accuracy: 0.9709\n",
            "Epoch 72/100\n",
            "59/59 [==============================] - 1s 19ms/step - loss: 0.0971 - accuracy: 0.9710\n",
            "Epoch 73/100\n",
            "59/59 [==============================] - 2s 26ms/step - loss: 0.0962 - accuracy: 0.9717\n",
            "Epoch 74/100\n",
            "59/59 [==============================] - 1s 20ms/step - loss: 0.0953 - accuracy: 0.9719\n",
            "Epoch 75/100\n",
            "59/59 [==============================] - 1s 21ms/step - loss: 0.0940 - accuracy: 0.9729\n",
            "Epoch 76/100\n",
            "59/59 [==============================] - 1s 20ms/step - loss: 0.0922 - accuracy: 0.9724\n",
            "Epoch 77/100\n",
            "59/59 [==============================] - 1s 20ms/step - loss: 0.0910 - accuracy: 0.9732\n",
            "Epoch 78/100\n",
            "59/59 [==============================] - 2s 32ms/step - loss: 0.0900 - accuracy: 0.9731\n",
            "Epoch 79/100\n",
            "59/59 [==============================] - 2s 29ms/step - loss: 0.0884 - accuracy: 0.9737\n",
            "Epoch 80/100\n",
            "59/59 [==============================] - 1s 20ms/step - loss: 0.0874 - accuracy: 0.9743\n",
            "Epoch 81/100\n",
            "59/59 [==============================] - 1s 20ms/step - loss: 0.0864 - accuracy: 0.9746\n",
            "Epoch 82/100\n",
            "59/59 [==============================] - 1s 19ms/step - loss: 0.0847 - accuracy: 0.9752\n",
            "Epoch 83/100\n",
            "59/59 [==============================] - 1s 20ms/step - loss: 0.0847 - accuracy: 0.9751\n",
            "Epoch 84/100\n",
            "59/59 [==============================] - 1s 20ms/step - loss: 0.0832 - accuracy: 0.9753\n",
            "Epoch 85/100\n",
            "59/59 [==============================] - 1s 19ms/step - loss: 0.0817 - accuracy: 0.9759\n",
            "Epoch 86/100\n",
            "59/59 [==============================] - 1s 20ms/step - loss: 0.0809 - accuracy: 0.9761\n",
            "Epoch 87/100\n",
            "59/59 [==============================] - 1s 20ms/step - loss: 0.0798 - accuracy: 0.9759\n",
            "Epoch 88/100\n",
            "59/59 [==============================] - 2s 28ms/step - loss: 0.0791 - accuracy: 0.9766\n",
            "Epoch 89/100\n",
            "59/59 [==============================] - 2s 33ms/step - loss: 0.0774 - accuracy: 0.9763\n",
            "Epoch 90/100\n",
            "59/59 [==============================] - 1s 21ms/step - loss: 0.0771 - accuracy: 0.9776\n",
            "Epoch 91/100\n",
            "59/59 [==============================] - 1s 19ms/step - loss: 0.0754 - accuracy: 0.9770\n",
            "Epoch 92/100\n",
            "59/59 [==============================] - 1s 20ms/step - loss: 0.0750 - accuracy: 0.9775\n",
            "Epoch 93/100\n",
            "59/59 [==============================] - 1s 19ms/step - loss: 0.0734 - accuracy: 0.9781\n",
            "Epoch 94/100\n",
            "59/59 [==============================] - 1s 20ms/step - loss: 0.0719 - accuracy: 0.9785\n",
            "Epoch 95/100\n",
            "59/59 [==============================] - 1s 20ms/step - loss: 0.0717 - accuracy: 0.9787\n",
            "Epoch 96/100\n",
            "59/59 [==============================] - 1s 21ms/step - loss: 0.0706 - accuracy: 0.9787\n",
            "Epoch 97/100\n",
            "59/59 [==============================] - 1s 20ms/step - loss: 0.0700 - accuracy: 0.9793\n",
            "Epoch 98/100\n",
            "59/59 [==============================] - 1s 25ms/step - loss: 0.0687 - accuracy: 0.9797\n",
            "Epoch 99/100\n",
            "59/59 [==============================] - 2s 33ms/step - loss: 0.0676 - accuracy: 0.9801\n",
            "Epoch 100/100\n",
            "59/59 [==============================] - 1s 24ms/step - loss: 0.0682 - accuracy: 0.9793\n"
          ]
        },
        {
          "output_type": "execute_result",
          "data": {
            "text/plain": [
              "<keras.callbacks.History at 0x7f0533be9790>"
            ]
          },
          "metadata": {},
          "execution_count": 39
        }
      ]
    },
    {
      "cell_type": "code",
      "source": [
        "# Evaluation\n",
        "\n",
        "test_loss, test_acc = model.evaluate(x_test, y_test)\n",
        "print(\"Test Loss: {}, Test Accuracy: {}\".format(test_loss, test_acc))"
      ],
      "metadata": {
        "colab": {
          "base_uri": "https://localhost:8080/"
        },
        "id": "cTfkPL7w6o83",
        "outputId": "000f1da9-aa1b-44b6-dbb8-46f8adb58de5"
      },
      "execution_count": 40,
      "outputs": [
        {
          "output_type": "stream",
          "name": "stdout",
          "text": [
            "313/313 [==============================] - 1s 3ms/step - loss: 0.0929 - accuracy: 0.9727\n",
            "Test Loss: 0.09288263320922852, Test Accuracy: 0.9726999998092651\n"
          ]
        }
      ]
    },
    {
      "cell_type": "code",
      "source": [
        "y_pred = model.predict(x_test)\n",
        "y_pred_classes = np.argmax(y_pred, axis = 1)\n",
        "\n",
        "print(y_pred)\n",
        "print(y_pred_classes) # Retuns largest probable value's index from each row"
      ],
      "metadata": {
        "colab": {
          "base_uri": "https://localhost:8080/"
        },
        "id": "hyw6bXMl7on9",
        "outputId": "16e85296-9f2e-4fc6-a1bf-16b3c74d1670"
      },
      "execution_count": 42,
      "outputs": [
        {
          "output_type": "stream",
          "name": "stdout",
          "text": [
            "313/313 [==============================] - 1s 3ms/step\n",
            "[[3.6274994e-07 1.2865446e-08 7.3932635e-05 ... 9.9987364e-01\n",
            "  4.2518130e-07 6.1136170e-06]\n",
            " [2.3865653e-06 7.0708263e-04 9.9869478e-01 ... 1.0292906e-08\n",
            "  7.3242074e-07 3.8763562e-14]\n",
            " [1.4583383e-06 9.9606854e-01 7.8920642e-04 ... 7.0422923e-04\n",
            "  1.7086858e-03 1.3915210e-05]\n",
            " ...\n",
            " [4.7724726e-09 5.7077418e-09 9.6377555e-09 ... 1.2659159e-04\n",
            "  3.1750169e-05 3.1723760e-04]\n",
            " [6.3012344e-08 9.1483287e-08 5.0086530e-09 ... 1.2112944e-09\n",
            "  2.5679142e-04 1.1420588e-07]\n",
            " [1.0625360e-05 1.8675279e-09 1.3526233e-05 ... 2.0784949e-10\n",
            "  7.4480522e-07 1.7431386e-10]]\n",
            "[7 2 1 ... 4 5 6]\n"
          ]
        }
      ]
    },
    {
      "cell_type": "code",
      "source": [
        "# Example Image\n",
        "\n",
        "random_idx = np.random.choice(len(x_test))\n",
        "x_sample = x_test[random_idx]\n",
        "y_true = np.argmax(y_test, axis = 1)\n",
        "y_sample_true = y_true[random_idx]\n",
        "y_sample_pred_class = y_pred_classes[random_idx]\n",
        "\n",
        "plt.title(\"Predicted: {}, True: {}\".format(y_sample_pred_class, y_sample_true), fontsize = 16)\n",
        "plt.imshow(x_sample.reshape(28, 28), cmap = 'gray')\n"
      ],
      "metadata": {
        "colab": {
          "base_uri": "https://localhost:8080/",
          "height": 300
        },
        "id": "MwqdKFWC76Bj",
        "outputId": "058bf71c-91f9-4308-c3ea-a4912de103bd"
      },
      "execution_count": 45,
      "outputs": [
        {
          "output_type": "execute_result",
          "data": {
            "text/plain": [
              "<matplotlib.image.AxesImage at 0x7f0533ca4d90>"
            ]
          },
          "metadata": {},
          "execution_count": 45
        },
        {
          "output_type": "display_data",
          "data": {
            "text/plain": [
              "<Figure size 432x288 with 1 Axes>"
            ],
            "image/png": "[encoded data removed]"
          },
          "metadata": {
            "needs_background": "light"
          }
        }
      ]
    },
    {
      "cell_type": "code",
      "source": [],
      "metadata": {
        "id": "JeS7yCxZ9NQ9"
      },
      "execution_count": null,
      "outputs": []
    }
  ]
}